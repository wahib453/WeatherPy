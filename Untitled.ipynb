{
 "cells": [
  {
   "cell_type": "code",
   "execution_count": 1,
   "id": "e03bc949",
   "metadata": {},
   "outputs": [],
   "source": [
    "from citipy import citipy"
   ]
  },
  {
   "cell_type": "code",
   "execution_count": 2,
   "id": "93596556",
   "metadata": {},
   "outputs": [],
   "source": [
    "lat = 40.727086\n",
    "lng = -73.9529912"
   ]
  },
  {
   "cell_type": "code",
   "execution_count": 5,
   "id": "7a8dfb04",
   "metadata": {},
   "outputs": [
    {
     "data": {
      "text/plain": [
       "['new york', 'us']"
      ]
     },
     "execution_count": 5,
     "metadata": {},
     "output_type": "execute_result"
    }
   ],
   "source": [
    "city_country = [citipy.nearest_city(lat, lng).city_name, citipy.nearest_city(lat, lng).country_code]\n",
    "city_country"
   ]
  },
  {
   "cell_type": "code",
   "execution_count": null,
   "id": "f041e387",
   "metadata": {},
   "outputs": [],
   "source": []
  }
 ],
 "metadata": {
  "kernelspec": {
   "display_name": "PythonEnv",
   "language": "python",
   "name": "pythonenv"
  },
  "language_info": {
   "codemirror_mode": {
    "name": "ipython",
    "version": 3
   },
   "file_extension": ".py",
   "mimetype": "text/x-python",
   "name": "python",
   "nbconvert_exporter": "python",
   "pygments_lexer": "ipython3",
   "version": "3.7.11"
  }
 },
 "nbformat": 4,
 "nbformat_minor": 5
}
